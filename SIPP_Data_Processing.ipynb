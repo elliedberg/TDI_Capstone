{
 "cells": [
  {
   "cell_type": "markdown",
   "id": "f2f3be06",
   "metadata": {},
   "source": [
    "# SIPP Data Processing\n",
    "\n",
    "In this notebook, I process the data from the US Census Bureau Survey of Income and Program Participation (SIPP) from years 2018 - 2021 and export the relevant data to SIPP_data.csv.\n"
   ]
  },
  {
   "cell_type": "code",
   "execution_count": 1,
   "id": "7d55164c",
   "metadata": {},
   "outputs": [],
   "source": [
    "import pandas as pd\n",
    "import numpy as np"
   ]
  },
  {
   "cell_type": "code",
   "execution_count": 89,
   "id": "c6f75072",
   "metadata": {},
   "outputs": [],
   "source": [
    "def prep_data(data_file, rd_schema, rw_schema, year):\n",
    "    \"\"\" \n",
    "    Process SIPP survey data.\n",
    "    First read in schema to get data-type information for each varaible (rd_schema). \n",
    "    Then read in relevant columns from census data file (data_file).\n",
    "    Extract age of youngest child by finding max of TCBYR columns.\n",
    "    Keep only columns corresponding to parents with a child under 15.\n",
    "    Add survey year column.\n",
    "    \"\"\"\n",
    "    rd_schema = pd.read_json(rd_schema)\n",
    "    rw_schema = pd.read_json(rw_schema)\n",
    "    rd_schema['dtype'] = ['Int64' if x== 'integer' \\\n",
    "                         else 'object' if x == 'string' \\\n",
    "                         else 'Float64' if x == 'float' \\\n",
    "                         else 'ERROR' \\\n",
    "                         for x in rd_schema['dtype']]\n",
    "    rw_schema['dtype'] = ['Int64' if x== 'integer' \\\n",
    "                         else 'object' if x == 'string' \\\n",
    "                         else 'Float64' if x == 'float' \\\n",
    "                         else 'ERROR' \\\n",
    "                         for x in rw_schema['dtype']]\n",
    "    data_df = pd.read_csv(data_file, \\\n",
    "                          names = rd_schema['name'], \\\n",
    "                          dtype = dict([(i,v) for i,v in zip(rd_schema['name'], rd_schema['dtype'])]), \\\n",
    "                          sep = '|', \\\n",
    "                          header = 0, \\\n",
    "                          usecols = ['SSUID','PNUM','MONTHCODE','SPANEL','TST_INTV','RREGION_INTV',\\\n",
    "                                     'TMETRO_INTV','TAGE', 'ESEX','ERACE','EORIGIN','EEDUC','TCBYR_1','TCBYR_2',\\\n",
    "                                     'TCBYR_3','TCBYR_4','TCBYR_5','TCBYR_6','EDAYCARE', 'EDAYHS', 'EFAM', \\\n",
    "                                     'EGRAN', 'EHEADST','EJB1_AWOP1','EJB1_AWOPRE1','EJB1_AWOPSM1', \\\n",
    "                                     'EJB1_PTRESN1','ELIST','ENJ_NOWRK6','ENREL','ENUR','ENURHS', \\\n",
    "                                     'EOTHR','EPAR','EPAY','EPAYHELP','EPROG','ESELF','ESIB15', \\\n",
    "                                     'ETIMELOST','ETIMELOST_TP','EWORKMORE','TJB1_ANNSAL1','TPAYWK']\n",
    "                         )\n",
    "    data_df['MAX_TCBYR'] = data_df[['TCBYR_1','TCBYR_2','TCBYR_3','TCBYR_4','TCBYR_5','TCBYR_6']].max(axis=1)\n",
    "    data_df = data_df[year-data_df['MAX_TCBYR']<=14]\n",
    "    data_df['YEAR'] = year\n",
    "    return data_df"
   ]
  },
  {
   "cell_type": "code",
   "execution_count": 90,
   "id": "48151327",
   "metadata": {},
   "outputs": [],
   "source": [
    "SIPP_2018 = prep_data('pu2018.csv', 'pu2018_schema.json', 'rw2018_schema.json', 2018)\n",
    "SIPP_2019 = prep_data('pu2019.csv', 'pu2019_schema.json', 'rw2019_schema.json', 2019)\n",
    "SIPP_2020 = prep_data('pu2020.csv', 'pu2020_schema.json', 'rw2020_schema.json', 2020)\n",
    "SIPP_2021 = prep_data('pu2021.csv', 'pu2021_schema.json', 'rw2021_schema.json', 2021)"
   ]
  },
  {
   "cell_type": "code",
   "execution_count": 94,
   "id": "fbe5de1e",
   "metadata": {},
   "outputs": [],
   "source": [
    "dfs = [SIPP_2018, SIPP_2019, SIPP_2020, SIP_2021]"
   ]
  },
  {
   "cell_type": "code",
   "execution_count": 95,
   "id": "e3b8af39",
   "metadata": {},
   "outputs": [],
   "source": [
    "SIPP_data = pd.concat(dfs, ignore_index=True)"
   ]
  },
  {
   "cell_type": "code",
   "execution_count": 96,
   "id": "03573834",
   "metadata": {},
   "outputs": [],
   "source": [
    "SIPP_data.to_csv('SIPP_data.csv')"
   ]
  }
 ],
 "metadata": {
  "kernelspec": {
   "display_name": "Python 3 (ipykernel)",
   "language": "python",
   "name": "python3"
  },
  "language_info": {
   "codemirror_mode": {
    "name": "ipython",
    "version": 3
   },
   "file_extension": ".py",
   "mimetype": "text/x-python",
   "name": "python",
   "nbconvert_exporter": "python",
   "pygments_lexer": "ipython3",
   "version": "3.9.12"
  }
 },
 "nbformat": 4,
 "nbformat_minor": 5
}
